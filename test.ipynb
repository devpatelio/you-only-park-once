{
 "cells": [
  {
   "cell_type": "code",
   "execution_count": null,
   "metadata": {},
   "outputs": [],
   "source": [
    "import flask\n",
    "from flask import Flask, request, render_template, redirect, url_for\n",
    "from werkzeug.utils import secure_filename\n",
    "from jinja2 import escape\n",
    "from markupsafe import escape\n",
    "\n",
    "import os\n",
    "app = Flask(__name__)\n",
    "\n",
    "UPLOAD = '/projects/07cb54a4-9729-4508-ad4f-95fc7891551c/Team Members/Dev Patel/deploy_template/'\n",
    "app.config['UPLOAD_FOLDER'] = UPLOAD\n",
    "\n",
    "@app.route('/', methods=['GET', 'POST'])\n",
    "def main():\n",
    "    if request.method == 'POST':\n",
    "        file = request.files['file']\n",
    "        filename = secure_filename(file.filename)\n",
    "        file.save(os.path.join(app.config['UPLOAD_FOLDER'], filename))\n",
    "        return redirect(url_for('download_file', name=filename))\n",
    "    return render_template('main.html')\n",
    "\n",
    "@app.route('/uploads/<name>')\n",
    "def download_file(name):\n",
    "    return 'File Uploaded Successfully'\n",
    "\n",
    "if __name__ == '__main__':\n",
    "    app.run(debug=True)"
   ]
  }
 ],
 "metadata": {
  "kernelspec": {
   "display_name": "Python 3.8.3 ('base')",
   "language": "python",
   "name": "python3"
  },
  "language_info": {
   "codemirror_mode": {
    "name": "ipython",
    "version": 3
   },
   "file_extension": ".py",
   "mimetype": "text/x-python",
   "name": "python",
   "nbconvert_exporter": "python",
   "pygments_lexer": "ipython3",
   "version": "3.8.3"
  },
  "orig_nbformat": 4,
  "vscode": {
   "interpreter": {
    "hash": "8c304eadc6b8ea56c9436dc6b2ad1b10803837547b0b4d513405bf88198b5337"
   }
  }
 },
 "nbformat": 4,
 "nbformat_minor": 2
}
